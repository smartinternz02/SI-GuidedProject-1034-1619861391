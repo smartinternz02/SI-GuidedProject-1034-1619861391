{
 "cells": [
  {
   "cell_type": "code",
   "execution_count": 1,
   "metadata": {},
   "outputs": [],
   "source": [
    "from tensorflow.keras.models import Sequential\n",
    "from tensorflow.keras.layers import Dense\n",
    "from tensorflow.keras.layers import Convolution2D\n",
    "from tensorflow.keras.layers import MaxPooling2D\n",
    "from tensorflow.keras.layers import Flatten"
   ]
  },
  {
   "cell_type": "code",
   "execution_count": 2,
   "metadata": {},
   "outputs": [
    {
     "name": "stderr",
     "output_type": "stream",
     "text": [
      "Using TensorFlow backend.\n"
     ]
    }
   ],
   "source": [
    "from keras.preprocessing.image import ImageDataGenerator\n",
    "train_datagen =  ImageDataGenerator(rescale = 1./255,shear_range = 0.2,zoom_range = 0.2,horizontal_flip = True)\n",
    "test_datagen =  ImageDataGenerator(rescale = 1./255)"
   ]
  },
  {
   "cell_type": "code",
   "execution_count": 3,
   "metadata": {},
   "outputs": [
    {
     "name": "stdout",
     "output_type": "stream",
     "text": [
      "Found 103 images belonging to 5 classes.\n",
      "Found 40 images belonging to 5 classes.\n"
     ]
    }
   ],
   "source": [
    "x_train = train_datagen.flow_from_directory(r\"D:\\Naren\\Externship\\Objects\\Train\",target_size = (64,64),batch_size = 32, class_mode =\"categorical\")\n",
    "x_test = test_datagen.flow_from_directory(r\"D:\\Naren\\Externship\\Objects\\Test\",target_size = (64,64),batch_size = 32, class_mode =\"categorical\")\n"
   ]
  },
  {
   "cell_type": "code",
   "execution_count": 4,
   "metadata": {},
   "outputs": [],
   "source": [
    "model = Sequential()"
   ]
  },
  {
   "cell_type": "code",
   "execution_count": 5,
   "metadata": {},
   "outputs": [],
   "source": [
    "model.add(Flatten())"
   ]
  },
  {
   "cell_type": "code",
   "execution_count": 6,
   "metadata": {},
   "outputs": [
    {
     "name": "stdout",
     "output_type": "stream",
     "text": [
      "WARNING:tensorflow:From C:\\ProgramData\\Anaconda3\\lib\\site-packages\\tensorflow\\python\\keras\\initializers.py:119: calling RandomUniform.__init__ (from tensorflow.python.ops.init_ops) with dtype is deprecated and will be removed in a future version.\n",
      "Instructions for updating:\n",
      "Call initializer instance with the dtype argument instead of passing it to the constructor\n"
     ]
    }
   ],
   "source": [
    "model.add(Dense(units = 512,activation = \"relu\",kernel_initializer = \"random_uniform\"))"
   ]
  },
  {
   "cell_type": "code",
   "execution_count": 7,
   "metadata": {},
   "outputs": [],
   "source": [
    "model.add(Dense(units = 5,activation = \"softmax\",kernel_initializer = \"random_uniform\"))"
   ]
  },
  {
   "cell_type": "code",
   "execution_count": 8,
   "metadata": {},
   "outputs": [],
   "source": [
    "model.compile(\"sgd\",loss = \"categorical_crossentropy\",metrics = [\"accuracy\"])"
   ]
  },
  {
   "cell_type": "code",
   "execution_count": 11,
   "metadata": {},
   "outputs": [
    {
     "name": "stdout",
     "output_type": "stream",
     "text": [
      "Epoch 1/20\n",
      "30/30 [==============================] - 11s 360ms/step - loss: 0.1732 - acc: 0.9447 - val_loss: 0.7372 - val_acc: 0.7500\n",
      "Epoch 2/20\n",
      "30/30 [==============================] - 17s 579ms/step - loss: 0.1236 - acc: 0.9592 - val_loss: 1.0817 - val_acc: 0.7000\n",
      "Epoch 3/20\n",
      "30/30 [==============================] - 13s 432ms/step - loss: 0.1465 - acc: 0.9554 - val_loss: 0.5749 - val_acc: 0.7750\n",
      "Epoch 4/20\n",
      "30/30 [==============================] - 15s 485ms/step - loss: 0.1208 - acc: 0.9684 - val_loss: 0.6965 - val_acc: 0.7750\n",
      "Epoch 5/20\n",
      "30/30 [==============================] - 18s 588ms/step - loss: 0.1550 - acc: 0.9490 - val_loss: 0.5850 - val_acc: 0.7750\n",
      "Epoch 6/20\n",
      "30/30 [==============================] - 15s 504ms/step - loss: 0.1998 - acc: 0.9342 - val_loss: 0.6255 - val_acc: 0.7500\n",
      "Epoch 7/20\n",
      "30/30 [==============================] - 14s 475ms/step - loss: 0.1450 - acc: 0.9474 - val_loss: 0.6994 - val_acc: 0.7500\n",
      "Epoch 8/20\n",
      "30/30 [==============================] - 15s 499ms/step - loss: 0.1248 - acc: 0.9694 - val_loss: 0.6474 - val_acc: 0.7250\n",
      "Epoch 9/20\n",
      "30/30 [==============================] - 13s 435ms/step - loss: 0.1534 - acc: 0.9513 - val_loss: 0.7158 - val_acc: 0.7250\n",
      "Epoch 10/20\n",
      "30/30 [==============================] - 15s 501ms/step - loss: 0.1023 - acc: 0.9656 - val_loss: 0.7790 - val_acc: 0.7000\n",
      "Epoch 11/20\n",
      "30/30 [==============================] - 14s 471ms/step - loss: 0.2736 - acc: 0.9237 - val_loss: 0.5838 - val_acc: 0.8000\n",
      "Epoch 12/20\n",
      "30/30 [==============================] - 13s 426ms/step - loss: 0.0914 - acc: 0.9783 - val_loss: 0.5746 - val_acc: 0.8250\n",
      "Epoch 13/20\n",
      "30/30 [==============================] - 14s 463ms/step - loss: 0.1682 - acc: 0.9447 - val_loss: 0.7416 - val_acc: 0.7250\n",
      "Epoch 14/20\n",
      "30/30 [==============================] - 15s 504ms/step - loss: 0.1428 - acc: 0.9554 - val_loss: 0.8186 - val_acc: 0.7500\n",
      "Epoch 15/20\n",
      "30/30 [==============================] - 14s 474ms/step - loss: 0.1170 - acc: 0.9671 - val_loss: 0.7210 - val_acc: 0.7500\n",
      "Epoch 16/20\n",
      "30/30 [==============================] - 14s 461ms/step - loss: 0.1132 - acc: 0.9694 - val_loss: 0.6198 - val_acc: 0.8250\n",
      "Epoch 17/20\n",
      "30/30 [==============================] - 14s 458ms/step - loss: 0.0960 - acc: 0.9783 - val_loss: 0.8233 - val_acc: 0.7750\n",
      "Epoch 18/20\n",
      "30/30 [==============================] - 15s 501ms/step - loss: 0.0996 - acc: 0.9724 - val_loss: 0.6626 - val_acc: 0.8250\n",
      "Epoch 19/20\n",
      "30/30 [==============================] - 14s 450ms/step - loss: 0.1892 - acc: 0.9382 - val_loss: 0.7436 - val_acc: 0.7000\n",
      "Epoch 20/20\n",
      "30/30 [==============================] - 13s 430ms/step - loss: 0.0788 - acc: 0.9809 - val_loss: 0.5390 - val_acc: 0.8250\n"
     ]
    },
    {
     "data": {
      "text/plain": [
       "<tensorflow.python.keras.callbacks.History at 0x13d8685c668>"
      ]
     },
     "execution_count": 11,
     "metadata": {},
     "output_type": "execute_result"
    }
   ],
   "source": [
    "model.fit_generator(x_train ,steps_per_epoch =30 ,epochs = 20,validation_data= x_test , validation_steps = 20)"
   ]
  },
  {
   "cell_type": "code",
   "execution_count": 12,
   "metadata": {},
   "outputs": [],
   "source": [
    "model.save(\"object.h5\")"
   ]
  },
  {
   "cell_type": "code",
   "execution_count": null,
   "metadata": {},
   "outputs": [],
   "source": []
  }
 ],
 "metadata": {
  "kernelspec": {
   "display_name": "Python 3",
   "language": "python",
   "name": "python3"
  },
  "language_info": {
   "codemirror_mode": {
    "name": "ipython",
    "version": 3
   },
   "file_extension": ".py",
   "mimetype": "text/x-python",
   "name": "python",
   "nbconvert_exporter": "python",
   "pygments_lexer": "ipython3",
   "version": "3.7.3"
  }
 },
 "nbformat": 4,
 "nbformat_minor": 2
}
